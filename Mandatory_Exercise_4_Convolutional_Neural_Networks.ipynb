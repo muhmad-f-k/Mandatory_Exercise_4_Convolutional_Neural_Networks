{
  "cells": [
    {
      "cell_type": "code",
      "execution_count": null,
      "metadata": {
        "id": "9JT7EVdZ4-XF"
      },
      "outputs": [],
      "source": [
        "import torch\n",
        "import torch.nn.functional as F\n",
        "import torch.nn as nn\n",
        "from torchvision.datasets import CIFAR10\n",
        "from torchvision.transforms import ToTensor\n",
        "import torchvision.transforms as transforms\n",
        "import matplotlib.pyplot as plt\n",
        "from torchvision.utils import make_grid\n",
        "import numpy as np\n",
        "from torch.utils.data import random_split\n",
        "import torch.optim as optim\n",
        "import torchvision"
      ]
    },
    {
      "cell_type": "markdown",
      "metadata": {
        "id": "UAlB5Xw75RJH"
      },
      "source": [
        "1. Download the CIFAR-10 dataset and preprocess it. Here, you can find an example of how to do so using \n",
        "PyTorch.  Keep  in  mind  that  the  transformation in  the  example  is  just  for  demonstration  purposes.  You \n",
        "should add more transformations as part of the preprocessing step such as normalization. "
      ]
    },
    {
      "cell_type": "code",
      "execution_count": null,
      "metadata": {
        "colab": {
          "base_uri": "https://localhost:8080/",
          "height": 84,
          "referenced_widgets": [
            "de637bed029a49c98c93fdd03f861dad",
            "2fe4a493ee254030824b4ae1ded2f16b",
            "fccf820b0fa142e58ade24533f9301ec",
            "39265c0bd57b42ab9066e7975c146d0a",
            "6cc2921ea5674268a3ff037293c13fc1",
            "6b87b85710b541adb8319d233a3de4b3",
            "6a3f3fc3558344b5ac7f9a1ef85d32ba",
            "94e017fda8fc4eb2bc31c55fe36858dd",
            "bd880f49aa6c41809a0f7c1a2655bd6c",
            "d31f4451ced44a92805030145caca01d",
            "6622fafd42f64f33b427d1cf16c7c2b9"
          ]
        },
        "id": "CCkmJZu-5Too",
        "outputId": "d9ba4f4d-68c3-43c0-81d6-c24f150d6d1a"
      },
      "outputs": [
        {
          "output_type": "stream",
          "name": "stdout",
          "text": [
            "Downloading https://www.cs.toronto.edu/~kriz/cifar-10-python.tar.gz to cifar10/cifar-10-python.tar.gz\n"
          ]
        },
        {
          "output_type": "display_data",
          "data": {
            "text/plain": [
              "  0%|          | 0/170498071 [00:00<?, ?it/s]"
            ],
            "application/vnd.jupyter.widget-view+json": {
              "version_major": 2,
              "version_minor": 0,
              "model_id": "de637bed029a49c98c93fdd03f861dad"
            }
          },
          "metadata": {}
        },
        {
          "output_type": "stream",
          "name": "stdout",
          "text": [
            "Extracting cifar10/cifar-10-python.tar.gz to cifar10/\n"
          ]
        }
      ],
      "source": [
        "#normalization\n",
        "transform = transforms.Compose([transforms.ToTensor(), transforms.Normalize((0.5, 0.5, 0.5), (0.5, 0.5, 0.5))])\n",
        "#Getting the dataset\n",
        "train_dataset = CIFAR10(root='cifar10/', download=True, transform=transform)\n",
        "test_dataset = CIFAR10(root='cifar10/', train=False, transform=transform)"
      ]
    },
    {
      "cell_type": "markdown",
      "metadata": {
        "id": "xKETCVPt5u8R"
      },
      "source": [
        "2. Find the size of the train and test datasets. Then, find the shape of the images. Finally, print the different \n",
        "classes of the dataset. "
      ]
    },
    {
      "cell_type": "code",
      "execution_count": null,
      "metadata": {
        "colab": {
          "base_uri": "https://localhost:8080/"
        },
        "id": "gcelO2cE5wGA",
        "outputId": "8f4467cc-6213-4bc0-9910-0d3db069a3c2"
      },
      "outputs": [
        {
          "output_type": "stream",
          "name": "stdout",
          "text": [
            "Size train dataset 50000\n",
            "Size test dataset 10000\n",
            "shape of the images (32, 32, 3)\n",
            "different classes of the dataset ['airplane', 'automobile', 'bird', 'cat', 'deer', 'dog', 'frog', 'horse', 'ship', 'truck']\n"
          ]
        }
      ],
      "source": [
        "classes = train_dataset.classes\n",
        "\n",
        "print(\"Size train dataset\", len(train_dataset))\n",
        "\n",
        "print(\"Size test dataset\", len(test_dataset))\n",
        "\n",
        "print(\"shape of the images\", train_dataset.data[0].shape)\n",
        "\n",
        "print(\"different classes of the dataset\", classes)"
      ]
    },
    {
      "cell_type": "markdown",
      "metadata": {
        "id": "Jhl4KBIS6sLc"
      },
      "source": [
        "3. Visualize 2 or 3 random images and their class labels from the training and testing datasets, respectively. "
      ]
    },
    {
      "cell_type": "code",
      "execution_count": null,
      "metadata": {
        "id": "zdSDumOV6zUC"
      },
      "outputs": [],
      "source": [
        "def show_image(dataset, image):\n",
        "  image, label = dataset[image]\n",
        "  plt.imshow(image.permute((1, 2, 0)))\n",
        "  print('Label:', classes[label])"
      ]
    },
    {
      "cell_type": "code",
      "execution_count": null,
      "metadata": {
        "colab": {
          "base_uri": "https://localhost:8080/",
          "height": 301
        },
        "id": "cr1e6z1xFr8k",
        "outputId": "c374a052-8ac2-4d21-f9c7-c8f7b8fc7595"
      },
      "outputs": [
        {
          "output_type": "stream",
          "name": "stderr",
          "text": [
            "WARNING:matplotlib.image:Clipping input data to the valid range for imshow with RGB data ([0..1] for floats or [0..255] for integers).\n"
          ]
        },
        {
          "output_type": "stream",
          "name": "stdout",
          "text": [
            "Label: truck\n"
          ]
        },
        {
          "output_type": "display_data",
          "data": {
            "text/plain": [
              "<Figure size 432x288 with 1 Axes>"
            ],
            "image/png": "[encoded data removed]"
          },
          "metadata": {
            "needs_background": "light"
          }
        }
      ],
      "source": [
        "#Image from train_dataset\n",
        "show_image(train_dataset,1)"
      ]
    },
    {
      "cell_type": "code",
      "execution_count": null,
      "metadata": {
        "colab": {
          "base_uri": "https://localhost:8080/",
          "height": 301
        },
        "id": "s0_naWcx7dRr",
        "outputId": "672a98d2-a660-47d4-e597-25c965b4ec75"
      },
      "outputs": [
        {
          "output_type": "stream",
          "name": "stderr",
          "text": [
            "WARNING:matplotlib.image:Clipping input data to the valid range for imshow with RGB data ([0..1] for floats or [0..255] for integers).\n"
          ]
        },
        {
          "output_type": "stream",
          "name": "stdout",
          "text": [
            "Label: ship\n"
          ]
        },
        {
          "output_type": "display_data",
          "data": {
            "text/plain": [
              "<Figure size 432x288 with 1 Axes>"
            ],
            "image/png": "[encoded data removed]"
          },
          "metadata": {
            "needs_background": "light"
          }
        }
      ],
      "source": [
        "#Image from test_dataset\n",
        "show_image(test_dataset,1)"
      ]
    },
    {
      "cell_type": "markdown",
      "metadata": {
        "id": "YJpg6zczF2I5"
      },
      "source": [
        "4. Split the training dataset into training and validation sets."
      ]
    },
    {
      "cell_type": "code",
      "execution_count": null,
      "metadata": {
        "id": "ZcbWeHLrF3JB"
      },
      "outputs": [],
      "source": [
        "#Using train and Val - 80% and 20 %\n",
        "train_set_size = int(len(train_dataset) * 0.8)\n",
        "val_set_size = len(train_dataset) - train_set_size \n",
        "\n",
        "train_dataset, val_dataset = random_split(train_dataset, [train_set_size, val_set_size])"
      ]
    },
    {
      "cell_type": "markdown",
      "metadata": {
        "id": "VvdvZ-kzGCfI"
      },
      "source": [
        "5. Use data loaders for the three datasets"
      ]
    },
    {
      "cell_type": "code",
      "execution_count": null,
      "metadata": {
        "id": "yFFov_jmGE0J",
        "colab": {
          "base_uri": "https://localhost:8080/"
        },
        "outputId": "af228357-baf8-4c93-ec99-096373bffc82"
      },
      "outputs": [
        {
          "output_type": "execute_result",
          "data": {
            "text/plain": [
              "6667"
            ]
          },
          "metadata": {},
          "execution_count": 25
        }
      ],
      "source": [
        "batch_size=4\n",
        "train_dataset_loader = torch.utils.data.DataLoader(train_dataset, batch_size=batch_size, shuffle=True, num_workers=2)\n",
        "test_dataset_loader = torch.utils.data.DataLoader(test_dataset, batch_size=batch_size, shuffle=True, num_workers=2)\n",
        "val_dataset_loader = torch.utils.data.DataLoader(val_dataset, batch_size=batch_size, shuffle=True, num_workers=2)"
      ]
    },
    {
      "cell_type": "markdown",
      "metadata": {
        "id": "rsDiaV7qGKkb"
      },
      "source": [
        "6. Implement your convolutional neural network class to classify CIFAR-10 data using nn.Module. "
      ]
    },
    {
      "cell_type": "code",
      "execution_count": null,
      "metadata": {
        "id": "xSPvkdEIGS1W"
      },
      "outputs": [],
      "source": [
        "#CNN\n",
        "class CNN(nn.Module):\n",
        "  def __init__(self):\n",
        "    super().__init__()\n",
        "    self.network = nn.Sequential(\n",
        "            #Feature learning\n",
        "            #Layer 1\n",
        "            nn.Conv2d(3, 16, kernel_size=3, padding=1),\n",
        "            nn.ReLU(),\n",
        "            nn.Conv2d(16, 32, kernel_size=3, stride=1, padding=1),\n",
        "            nn.ReLU(),\n",
        "            nn.MaxPool2d(4, 4),\n",
        "\n",
        "            #Layer 2\n",
        "            nn.Conv2d(32, 64, kernel_size=3, stride=1, padding=1),\n",
        "            nn.ReLU(),\n",
        "            nn.Conv2d(64, 64, kernel_size=3, stride=1, padding=1),\n",
        "            nn.ReLU(),\n",
        "            nn.MaxPool2d(2, 2), #output 64 x 4 x4\n",
        "\n",
        "            #Classification\n",
        "            nn.Flatten(), \n",
        "            nn.Linear(64*4*4, 256),\n",
        "            nn.ReLU(),\n",
        "            nn.Linear(256, 128),\n",
        "            nn.ReLU(),\n",
        "            nn.Linear(128, 10))\n",
        "  def forward(self, x):\n",
        "    return self.network(x)\n"
      ]
    },
    {
      "cell_type": "markdown",
      "metadata": {
        "id": "nK4gGiq1G-VP"
      },
      "source": [
        "7. When you are ready to train the network (refer to the Appendix in page 3), change the runtime type to \n",
        "a  GPU  to  speed  up  the  training.  (Tip:  start  with  2  epochs  to  make  sure  everything  works  before  you "
      ]
    },
    {
      "cell_type": "code",
      "execution_count": null,
      "metadata": {
        "id": "TrDgQ7e3HBre"
      },
      "outputs": [],
      "source": [
        "# Initialize model\n",
        "model = CNN()\n",
        "#save the model\n",
        "torch.save(model.state_dict(), 'cifar10-cnn.pth')\n",
        "#Make use of cuda gpu if available and if not use cpu\n",
        "device = torch.device('cuda' if torch.cuda.is_available() else 'cpu')\n",
        "#sending the model to cuda device\n",
        "model = model.to(device)\n",
        "#Optimizer and loss function\n",
        "learning_rate = 0.001\n",
        "criterion = nn.CrossEntropyLoss()\n",
        "# Initialize optimizer\n",
        "optimizer = torch.optim.SGD(model.parameters(), lr=learning_rate)\n",
        "\n",
        "#Function to test the dataset \n",
        "def train(epochs, dataset):\n",
        "  loss_values =[]\n",
        "  for epoch in range(epochs):\n",
        "    running_loss = 0.0\n",
        "    for i, data in enumerate(dataset, 0):\n",
        "      # get the inputs; data is a list of [inputs, labels]\n",
        "      inputs, labels = data\n",
        "      inputs, labels = inputs.to(device), labels.to(device)\n",
        "      # zero the parameter gradients\n",
        "      optimizer.zero_grad()\n",
        "      # forward + backward + optimize\n",
        "      outputs = model(inputs)\n",
        "      loss = criterion(outputs, labels)\n",
        "      loss.backward()\n",
        "      optimizer.step()\n",
        "      running_loss =+ loss.item()\n",
        "      #to append to loss_values only every 200 mini-batches to keep the graf clean later when doing plot\n",
        "      if i % 200 == 199:\n",
        "        loss_values.append(running_loss)\n",
        "  return loss_values"
      ]
    },
    {
      "cell_type": "markdown",
      "metadata": {
        "id": "Qns6W4JcLmzI"
      },
      "source": [
        "- plot the training  and validation losses with respect to the epoch \n",
        "numbers"
      ]
    },
    {
      "cell_type": "code",
      "execution_count": null,
      "metadata": {
        "colab": {
          "base_uri": "https://localhost:8080/",
          "height": 265
        },
        "id": "dUydGO0_HKtn",
        "outputId": "921c02a8-43ff-4a8c-bcb9-a9d98005de73"
      },
      "outputs": [
        {
          "output_type": "display_data",
          "data": {
            "text/plain": [
              "<Figure size 432x288 with 1 Axes>"
            ],
            "image/png": "[encoded data removed]"
          },
          "metadata": {
            "needs_background": "light"
          }
        }
      ],
      "source": [
        "plt.plot(train(epochs = 1, dataset=train_dataset_loader), color='r', label='Train dataset Epoch 1')\n",
        "plt.plot(train(epochs = 2, dataset=train_dataset_loader), color='g', label='Train dataset Epoch 2')\n",
        "plt.plot(train(epochs = 3, dataset=train_dataset_loader), color='b', label='Train dataset Epoch 3')\n",
        "\n",
        "plt.plot(train(epochs = 1, dataset=val_dataset_loader), color='c', label='val dataset Epoch 1')\n",
        "plt.plot(train(epochs = 2, dataset=val_dataset_loader), color='m', label='val dataset Epoch 2')\n",
        "plt.plot(train(epochs = 3, dataset=val_dataset_loader), color='y', label='val dataset Epoch 3')\n",
        "\n",
        "plt.legend()\n",
        "plt.show()"
      ]
    },
    {
      "cell_type": "markdown",
      "metadata": {
        "id": "yvdPU4Z-Ly33"
      },
      "source": [
        "8. Test your CNN using the test data. Report the accuracy of your CNN classification overall and per-class. "
      ]
    },
    {
      "cell_type": "code",
      "execution_count": null,
      "metadata": {
        "colab": {
          "base_uri": "https://localhost:8080/"
        },
        "id": "Qrz9PWewIlWt",
        "outputId": "ee04570e-28dd-419a-adc3-fb81044e5326"
      },
      "outputs": [
        {
          "output_type": "stream",
          "name": "stdout",
          "text": [
            "Accuracy of the network on the test input: 48 %\n"
          ]
        }
      ],
      "source": [
        "#Accuracy of CNN classification overall using the test data\n",
        "correct = 0\n",
        "total = 0\n",
        "with torch.no_grad():\n",
        "    for data in test_dataset_loader:\n",
        "        inputs, labels = data\n",
        "        inputs, labels = inputs.to(device), labels.to(device)\n",
        "        outputs = model(inputs)\n",
        "        _, predicted = torch.max(outputs.data, 1)\n",
        "        total += labels.size(0)\n",
        "        correct += (predicted == labels).sum().item()\n",
        "\n",
        "print('Accuracy of the network on the test input: %d %%' % (\n",
        "    100 * correct / total))"
      ]
    },
    {
      "cell_type": "code",
      "execution_count": null,
      "metadata": {
        "colab": {
          "base_uri": "https://localhost:8080/"
        },
        "id": "bc2lbUhmMSKF",
        "outputId": "a682053a-93bd-4e40-f97a-a6d791245110"
      },
      "outputs": [
        {
          "output_type": "stream",
          "name": "stdout",
          "text": [
            "Accuracy of airplane : 54 %\n",
            "Accuracy of automobile : 66 %\n",
            "Accuracy of  bird : 12 %\n",
            "Accuracy of   cat : 22 %\n",
            "Accuracy of  deer : 38 %\n",
            "Accuracy of   dog : 43 %\n",
            "Accuracy of  frog : 59 %\n",
            "Accuracy of horse : 70 %\n",
            "Accuracy of  ship : 52 %\n",
            "Accuracy of truck : 63 %\n"
          ]
        }
      ],
      "source": [
        "#Accuracy of CNN classification per-class using the test data\n",
        "class_correct = list(0. for i in range(10))\n",
        "class_total = list(0. for i in range(10))\n",
        "with torch.no_grad():\n",
        "    for data in test_dataset_loader:\n",
        "        inputs, labels = data\n",
        "        inputs, labels = inputs.to(device), labels.to(device)\n",
        "        outputs = model(inputs)\n",
        "        _, predicted = torch.max(outputs, 1)\n",
        "        c = (predicted == labels).squeeze()\n",
        "        for i in range(4):\n",
        "            label = labels[i]\n",
        "            class_correct[label] += c[i].item()\n",
        "            class_total[label] += 1\n",
        "\n",
        "\n",
        "for i in range(10):\n",
        "    print('Accuracy of %5s : %2d %%' % (\n",
        "        classes[i], 100 * class_correct[i] / class_total[i]))"
      ]
    },
    {
      "cell_type": "markdown",
      "metadata": {
        "id": "ztaNbwx6MnU2"
      },
      "source": [
        "9. Make a new CNN class that is a copy of your original CNN. Then add a convolutional layer to the new \n",
        "network  architecture.  Train  the  new  network,  the  same  way  you  did  with  the  first  network  (same \n",
        "hyperparameters, optimizer and number of epochs ...) and compare the accuracy results (overall and per-\n",
        "class) with the old network. "
      ]
    },
    {
      "cell_type": "code",
      "execution_count": null,
      "metadata": {
        "id": "ffxxQFvcNduh"
      },
      "outputs": [],
      "source": [
        "class New_CNN(nn.Module):\n",
        "  def __init__(self):\n",
        "    super().__init__()\n",
        "    self.network = nn.Sequential(\n",
        "            #Feature learning\n",
        "            #Layer 1\n",
        "            nn.Conv2d(3, 16, kernel_size=3, padding=1),\n",
        "            nn.ReLU(),\n",
        "            nn.Conv2d(16, 32, kernel_size=3, stride=1, padding=1),\n",
        "            nn.ReLU(),\n",
        "            nn.MaxPool2d(2, 2), # 16\n",
        "            #Layer 2\n",
        "            nn.Conv2d(32, 64, kernel_size=3, stride=1, padding=1),\n",
        "            nn.ReLU(),\n",
        "            nn.Conv2d(64, 64, kernel_size=3, stride=1, padding=1),\n",
        "            nn.ReLU(),\n",
        "            nn.MaxPool2d(2, 2), #8\n",
        "            #layer 3\n",
        "            nn.Conv2d(64, 128, kernel_size=3, stride=1, padding=1),\n",
        "            nn.ReLU(),\n",
        "            nn.Conv2d(128, 128, kernel_size=3, stride=1, padding=1),\n",
        "            nn.ReLU(),\n",
        "            nn.MaxPool2d(2, 2), #4\n",
        "\n",
        "            #Classification\n",
        "            nn.Flatten(), \n",
        "            nn.Linear(128*4*4, 512),\n",
        "            nn.ReLU(),\n",
        "            nn.Linear(512, 256),\n",
        "            nn.ReLU(),\n",
        "            nn.Linear(256, 10))\n",
        "  def forward(self, x):\n",
        "    return self.network(x)"
      ]
    },
    {
      "cell_type": "code",
      "execution_count": null,
      "metadata": {
        "id": "r-ZSxjpqNtce"
      },
      "outputs": [],
      "source": [
        "# Initialize the new model\n",
        "new_model = New_CNN()\n",
        "torch.save(new_model.state_dict(), 'cifar10-cnn_new.pth')\n",
        "new_model = model.to(device)\n",
        "#Function to test the dataset \n",
        "def new_train(epochs, dataset):\n",
        "  loss_values =[]\n",
        "  for epoch in range(epochs):\n",
        "    running_loss = 0.0\n",
        "    for i, data in enumerate(dataset, 0):\n",
        "      # get the inputs; data is a list of [inputs, labels]\n",
        "      inputs, labels = data\n",
        "      inputs, labels = inputs.to(device), labels.to(device)\n",
        "      # zero the parameter gradients\n",
        "      optimizer.zero_grad()\n",
        "      # forward + backward + optimize\n",
        "      outputs = new_model(inputs)\n",
        "\n",
        "      loss = criterion(outputs, labels)\n",
        "\n",
        "      loss.backward()\n",
        "      optimizer.step()\n",
        "      running_loss =+ loss.item()\n",
        "      #to append to loss_values only every 200 mini-batches to keep the graf clean later when doing plot\n",
        "      if i % 200 == 199:\n",
        "        loss_values.append(running_loss)\n",
        "  return loss_values"
      ]
    },
    {
      "cell_type": "markdown",
      "metadata": {
        "id": "xvk5X_GpOOdo"
      },
      "source": [
        "- plot the training  and validation losses with respect to the epoch \n",
        "numbers"
      ]
    },
    {
      "cell_type": "code",
      "execution_count": null,
      "metadata": {
        "colab": {
          "base_uri": "https://localhost:8080/",
          "height": 265
        },
        "id": "q9bPO1FnN9D3",
        "outputId": "0104358b-b25e-4cd5-efdb-50e9f2790b2d"
      },
      "outputs": [
        {
          "output_type": "display_data",
          "data": {
            "text/plain": [
              "<Figure size 432x288 with 1 Axes>"
            ],
            "image/png": "[encoded data removed]"
          },
          "metadata": {
            "needs_background": "light"
          }
        }
      ],
      "source": [
        "plt.plot(new_train(epochs = 1, dataset=train_dataset_loader), color='r', label='Train dataset Epoch 1')\n",
        "plt.plot(new_train(epochs = 2, dataset=train_dataset_loader), color='g', label='Train dataset Epoch 2')\n",
        "plt.plot(new_train(epochs = 3, dataset=train_dataset_loader), color='b', label='Train dataset Epoch 3')\n",
        "\n",
        "plt.plot(new_train(epochs = 1, dataset=val_dataset_loader), color='c', label='val dataset Epoch 1')\n",
        "plt.plot(new_train(epochs = 2, dataset=val_dataset_loader), color='m', label='val dataset Epoch 2')\n",
        "plt.plot(new_train(epochs = 3, dataset=val_dataset_loader), color='y', label='val dataset Epoch 3')\n",
        "\n",
        "plt.legend()\n",
        "plt.show()"
      ]
    },
    {
      "cell_type": "code",
      "execution_count": null,
      "metadata": {
        "colab": {
          "base_uri": "https://localhost:8080/"
        },
        "id": "nwrxTKkjS5_P",
        "outputId": "6ae90735-c5df-4ecf-e37d-3f872908da1d"
      },
      "outputs": [
        {
          "output_type": "stream",
          "name": "stdout",
          "text": [
            "Accuracy of the network on the test input: 64 %\n"
          ]
        }
      ],
      "source": [
        "#check the performs of the train dataset using the test data\n",
        "correct = 0\n",
        "total = 0\n",
        "with torch.no_grad():\n",
        "    for data in test_dataset_loader:\n",
        "        inputs, labels = data\n",
        "        inputs, labels = inputs.to(device), labels.to(device)\n",
        "        outputs = new_model(inputs)\n",
        "        _, predicted = torch.max(outputs.data, 1)\n",
        "        total += labels.size(0)\n",
        "        correct += (predicted == labels).sum().item()\n",
        "\n",
        "print('Accuracy of the network on the test input: %d %%' % (\n",
        "    100 * correct / total))"
      ]
    },
    {
      "cell_type": "code",
      "execution_count": null,
      "metadata": {
        "colab": {
          "base_uri": "https://localhost:8080/"
        },
        "id": "nsicXBNXS6Kv",
        "outputId": "89e814a0-f13d-4bf7-8a29-3c24688a310d"
      },
      "outputs": [
        {
          "output_type": "stream",
          "name": "stdout",
          "text": [
            "Accuracy of airplane : 75 %\n",
            "Accuracy of automobile : 85 %\n",
            "Accuracy of  bird : 50 %\n",
            "Accuracy of   cat : 56 %\n",
            "Accuracy of  deer : 52 %\n",
            "Accuracy of   dog : 41 %\n",
            "Accuracy of  frog : 51 %\n",
            "Accuracy of horse : 75 %\n",
            "Accuracy of  ship : 80 %\n",
            "Accuracy of truck : 72 %\n"
          ]
        }
      ],
      "source": [
        "# Test classes and how well it performe individually using the test data\n",
        "\n",
        "class_correct = list(0. for i in range(10))\n",
        "class_total = list(0. for i in range(10))\n",
        "with torch.no_grad():\n",
        "    for data in test_dataset_loader:\n",
        "        inputs, labels = data\n",
        "        inputs, labels = inputs.to(device), labels.to(device)\n",
        "        outputs = new_model(inputs)\n",
        "        _, predicted = torch.max(outputs, 1)\n",
        "        c = (predicted == labels).squeeze()\n",
        "        for i in range(4):\n",
        "            label = labels[i]\n",
        "            class_correct[label] += c[i].item()\n",
        "            class_total[label] += 1\n",
        "\n",
        "\n",
        "for i in range(10):\n",
        "    print('Accuracy of %5s : %2d %%' % (\n",
        "        classes[i], 100 * class_correct[i] / class_total[i]))"
      ]
    },
    {
      "cell_type": "markdown",
      "metadata": {
        "id": "gz8hiM5oo1tD"
      },
      "source": [
        "- When looking at the loss graf for the 2 models - see that the first model have higher loss rate then the second model with extra layer. \n",
        "- When it comes to accuracy overall and per- class, we see second model do better then first model. \n",
        "- It looks that the the extra layer give better performance - as we see in model 2, it get 16% more then first model with only 2 layers. Having only 2 layers its not good practic but for me that help understand more, more importend in many cases add more layers wont gurantee better resulat."
      ]
    }
  ],
  "metadata": {
    "accelerator": "GPU",
    "colab": {
      "provenance": []
    },
    "kernelspec": {
      "display_name": "Python 3",
      "name": "python3"
    },
    "language_info": {
      "name": "python"
    },
    "widgets": {
      "application/vnd.jupyter.widget-state+json": {
        "de637bed029a49c98c93fdd03f861dad": {
          "model_module": "@jupyter-widgets/controls",
          "model_name": "HBoxModel",
          "model_module_version": "1.5.0",
          "state": {
            "_dom_classes": [],
            "_model_module": "@jupyter-widgets/controls",
            "_model_module_version": "1.5.0",
            "_model_name": "HBoxModel",
            "_view_count": null,
            "_view_module": "@jupyter-widgets/controls",
            "_view_module_version": "1.5.0",
            "_view_name": "HBoxView",
            "box_style": "",
            "children": [
              "IPY_MODEL_2fe4a493ee254030824b4ae1ded2f16b",
              "IPY_MODEL_fccf820b0fa142e58ade24533f9301ec",
              "IPY_MODEL_39265c0bd57b42ab9066e7975c146d0a"
            ],
            "layout": "IPY_MODEL_6cc2921ea5674268a3ff037293c13fc1"
          }
        },
        "2fe4a493ee254030824b4ae1ded2f16b": {
          "model_module": "@jupyter-widgets/controls",
          "model_name": "HTMLModel",
          "model_module_version": "1.5.0",
          "state": {
            "_dom_classes": [],
            "_model_module": "@jupyter-widgets/controls",
            "_model_module_version": "1.5.0",
            "_model_name": "HTMLModel",
            "_view_count": null,
            "_view_module": "@jupyter-widgets/controls",
            "_view_module_version": "1.5.0",
            "_view_name": "HTMLView",
            "description": "",
            "description_tooltip": null,
            "layout": "IPY_MODEL_6b87b85710b541adb8319d233a3de4b3",
            "placeholder": "​",
            "style": "IPY_MODEL_6a3f3fc3558344b5ac7f9a1ef85d32ba",
            "value": "100%"
          }
        },
        "fccf820b0fa142e58ade24533f9301ec": {
          "model_module": "@jupyter-widgets/controls",
          "model_name": "FloatProgressModel",
          "model_module_version": "1.5.0",
          "state": {
            "_dom_classes": [],
            "_model_module": "@jupyter-widgets/controls",
            "_model_module_version": "1.5.0",
            "_model_name": "FloatProgressModel",
            "_view_count": null,
            "_view_module": "@jupyter-widgets/controls",
            "_view_module_version": "1.5.0",
            "_view_name": "ProgressView",
            "bar_style": "success",
            "description": "",
            "description_tooltip": null,
            "layout": "IPY_MODEL_94e017fda8fc4eb2bc31c55fe36858dd",
            "max": 170498071,
            "min": 0,
            "orientation": "horizontal",
            "style": "IPY_MODEL_bd880f49aa6c41809a0f7c1a2655bd6c",
            "value": 170498071
          }
        },
        "39265c0bd57b42ab9066e7975c146d0a": {
          "model_module": "@jupyter-widgets/controls",
          "model_name": "HTMLModel",
          "model_module_version": "1.5.0",
          "state": {
            "_dom_classes": [],
            "_model_module": "@jupyter-widgets/controls",
            "_model_module_version": "1.5.0",
            "_model_name": "HTMLModel",
            "_view_count": null,
            "_view_module": "@jupyter-widgets/controls",
            "_view_module_version": "1.5.0",
            "_view_name": "HTMLView",
            "description": "",
            "description_tooltip": null,
            "layout": "IPY_MODEL_d31f4451ced44a92805030145caca01d",
            "placeholder": "​",
            "style": "IPY_MODEL_6622fafd42f64f33b427d1cf16c7c2b9",
            "value": " 170498071/170498071 [00:01&lt;00:00, 98835466.16it/s]"
          }
        },
        "6cc2921ea5674268a3ff037293c13fc1": {
          "model_module": "@jupyter-widgets/base",
          "model_name": "LayoutModel",
          "model_module_version": "1.2.0",
          "state": {
            "_model_module": "@jupyter-widgets/base",
            "_model_module_version": "1.2.0",
            "_model_name": "LayoutModel",
            "_view_count": null,
            "_view_module": "@jupyter-widgets/base",
            "_view_module_version": "1.2.0",
            "_view_name": "LayoutView",
            "align_content": null,
            "align_items": null,
            "align_self": null,
            "border": null,
            "bottom": null,
            "display": null,
            "flex": null,
            "flex_flow": null,
            "grid_area": null,
            "grid_auto_columns": null,
            "grid_auto_flow": null,
            "grid_auto_rows": null,
            "grid_column": null,
            "grid_gap": null,
            "grid_row": null,
            "grid_template_areas": null,
            "grid_template_columns": null,
            "grid_template_rows": null,
            "height": null,
            "justify_content": null,
            "justify_items": null,
            "left": null,
            "margin": null,
            "max_height": null,
            "max_width": null,
            "min_height": null,
            "min_width": null,
            "object_fit": null,
            "object_position": null,
            "order": null,
            "overflow": null,
            "overflow_x": null,
            "overflow_y": null,
            "padding": null,
            "right": null,
            "top": null,
            "visibility": null,
            "width": null
          }
        },
        "6b87b85710b541adb8319d233a3de4b3": {
          "model_module": "@jupyter-widgets/base",
          "model_name": "LayoutModel",
          "model_module_version": "1.2.0",
          "state": {
            "_model_module": "@jupyter-widgets/base",
            "_model_module_version": "1.2.0",
            "_model_name": "LayoutModel",
            "_view_count": null,
            "_view_module": "@jupyter-widgets/base",
            "_view_module_version": "1.2.0",
            "_view_name": "LayoutView",
            "align_content": null,
            "align_items": null,
            "align_self": null,
            "border": null,
            "bottom": null,
            "display": null,
            "flex": null,
            "flex_flow": null,
            "grid_area": null,
            "grid_auto_columns": null,
            "grid_auto_flow": null,
            "grid_auto_rows": null,
            "grid_column": null,
            "grid_gap": null,
            "grid_row": null,
            "grid_template_areas": null,
            "grid_template_columns": null,
            "grid_template_rows": null,
            "height": null,
            "justify_content": null,
            "justify_items": null,
            "left": null,
            "margin": null,
            "max_height": null,
            "max_width": null,
            "min_height": null,
            "min_width": null,
            "object_fit": null,
            "object_position": null,
            "order": null,
            "overflow": null,
            "overflow_x": null,
            "overflow_y": null,
            "padding": null,
            "right": null,
            "top": null,
            "visibility": null,
            "width": null
          }
        },
        "6a3f3fc3558344b5ac7f9a1ef85d32ba": {
          "model_module": "@jupyter-widgets/controls",
          "model_name": "DescriptionStyleModel",
          "model_module_version": "1.5.0",
          "state": {
            "_model_module": "@jupyter-widgets/controls",
            "_model_module_version": "1.5.0",
            "_model_name": "DescriptionStyleModel",
            "_view_count": null,
            "_view_module": "@jupyter-widgets/base",
            "_view_module_version": "1.2.0",
            "_view_name": "StyleView",
            "description_width": ""
          }
        },
        "94e017fda8fc4eb2bc31c55fe36858dd": {
          "model_module": "@jupyter-widgets/base",
          "model_name": "LayoutModel",
          "model_module_version": "1.2.0",
          "state": {
            "_model_module": "@jupyter-widgets/base",
            "_model_module_version": "1.2.0",
            "_model_name": "LayoutModel",
            "_view_count": null,
            "_view_module": "@jupyter-widgets/base",
            "_view_module_version": "1.2.0",
            "_view_name": "LayoutView",
            "align_content": null,
            "align_items": null,
            "align_self": null,
            "border": null,
            "bottom": null,
            "display": null,
            "flex": null,
            "flex_flow": null,
            "grid_area": null,
            "grid_auto_columns": null,
            "grid_auto_flow": null,
            "grid_auto_rows": null,
            "grid_column": null,
            "grid_gap": null,
            "grid_row": null,
            "grid_template_areas": null,
            "grid_template_columns": null,
            "grid_template_rows": null,
            "height": null,
            "justify_content": null,
            "justify_items": null,
            "left": null,
            "margin": null,
            "max_height": null,
            "max_width": null,
            "min_height": null,
            "min_width": null,
            "object_fit": null,
            "object_position": null,
            "order": null,
            "overflow": null,
            "overflow_x": null,
            "overflow_y": null,
            "padding": null,
            "right": null,
            "top": null,
            "visibility": null,
            "width": null
          }
        },
        "bd880f49aa6c41809a0f7c1a2655bd6c": {
          "model_module": "@jupyter-widgets/controls",
          "model_name": "ProgressStyleModel",
          "model_module_version": "1.5.0",
          "state": {
            "_model_module": "@jupyter-widgets/controls",
            "_model_module_version": "1.5.0",
            "_model_name": "ProgressStyleModel",
            "_view_count": null,
            "_view_module": "@jupyter-widgets/base",
            "_view_module_version": "1.2.0",
            "_view_name": "StyleView",
            "bar_color": null,
            "description_width": ""
          }
        },
        "d31f4451ced44a92805030145caca01d": {
          "model_module": "@jupyter-widgets/base",
          "model_name": "LayoutModel",
          "model_module_version": "1.2.0",
          "state": {
            "_model_module": "@jupyter-widgets/base",
            "_model_module_version": "1.2.0",
            "_model_name": "LayoutModel",
            "_view_count": null,
            "_view_module": "@jupyter-widgets/base",
            "_view_module_version": "1.2.0",
            "_view_name": "LayoutView",
            "align_content": null,
            "align_items": null,
            "align_self": null,
            "border": null,
            "bottom": null,
            "display": null,
            "flex": null,
            "flex_flow": null,
            "grid_area": null,
            "grid_auto_columns": null,
            "grid_auto_flow": null,
            "grid_auto_rows": null,
            "grid_column": null,
            "grid_gap": null,
            "grid_row": null,
            "grid_template_areas": null,
            "grid_template_columns": null,
            "grid_template_rows": null,
            "height": null,
            "justify_content": null,
            "justify_items": null,
            "left": null,
            "margin": null,
            "max_height": null,
            "max_width": null,
            "min_height": null,
            "min_width": null,
            "object_fit": null,
            "object_position": null,
            "order": null,
            "overflow": null,
            "overflow_x": null,
            "overflow_y": null,
            "padding": null,
            "right": null,
            "top": null,
            "visibility": null,
            "width": null
          }
        },
        "6622fafd42f64f33b427d1cf16c7c2b9": {
          "model_module": "@jupyter-widgets/controls",
          "model_name": "DescriptionStyleModel",
          "model_module_version": "1.5.0",
          "state": {
            "_model_module": "@jupyter-widgets/controls",
            "_model_module_version": "1.5.0",
            "_model_name": "DescriptionStyleModel",
            "_view_count": null,
            "_view_module": "@jupyter-widgets/base",
            "_view_module_version": "1.2.0",
            "_view_name": "StyleView",
            "description_width": ""
          }
        }
      }
    }
  },
  "nbformat": 4,
  "nbformat_minor": 0
}